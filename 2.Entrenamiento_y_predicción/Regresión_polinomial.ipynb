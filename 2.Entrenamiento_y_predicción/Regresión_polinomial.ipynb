{
 "cells": [
  {
   "cell_type": "code",
   "execution_count": 1,
   "metadata": {},
   "outputs": [],
   "source": [
    "import pandas as pd\n",
    "import numpy as np\n",
    "import seaborn as sns\n",
    "import matplotlib.pyplot as plt\n",
    "from sklearn.ensemble import ExtraTreesRegressor,RandomForestRegressor\n",
    "from sklearn.model_selection import train_test_split\n",
    "from sklearn.preprocessing import PolynomialFeatures\n",
    "from sklearn.metrics import mean_squared_error,r2_score\n",
    "from sklearn import metrics"
   ]
  },
  {
   "cell_type": "code",
   "execution_count": 2,
   "metadata": {},
   "outputs": [],
   "source": [
    "dataset_train = pd.read_csv('../1.Limpieza_dataraw_inicial/Data_output/train_clean.csv', index_col=0)\n",
    "dataset_predict= pd.read_csv('../1.Limpieza_dataraw_inicial/Data_output/predict_clean.csv', index_col=0)"
   ]
  },
  {
   "cell_type": "code",
   "execution_count": 3,
   "metadata": {},
   "outputs": [
    {
     "name": "stdout",
     "output_type": "stream",
     "text": [
      "Precisión del modelo:\n",
      "0.997123041205399\n"
     ]
    }
   ],
   "source": [
    "########## IMPLEMENTACIÓN DE REGRESIÓN POLINOMIAL ##########\n",
    "from sklearn.model_selection import train_test_split\n",
    "#Separo los datos de \"train\" en entrenamiento y prueba para probar los algoritmos\n",
    "X_train_p, X_test_p, y_train_p, y_test_p = train_test_split(dataset_train.drop(columns=\"price\"),dataset_train.price, test_size=0.2)\n",
    "from sklearn.preprocessing import PolynomialFeatures\n",
    "#Se define el grado del polinomio\n",
    "poli_reg = PolynomialFeatures(degree = 4)\n",
    "#Se transforma las características existentes en características de mayor grado\n",
    "X_train_poli = poli_reg.fit_transform(X_train_p)\n",
    "X_test_poli = poli_reg.fit_transform(X_test_p)\n",
    "#Defino el algoritmo a utilizar\n",
    "pr = ExtraTreesRegressor(bootstrap= True, max_depth= 20, max_features= 'auto', n_estimators= 300)\n",
    "#Entreno el modelo\n",
    "pr.fit(X_train_poli, y_train_p)\n",
    "#Realizo una predicción\n",
    "Y_pred_pr = pr.predict(X_test_poli)\n",
    "print('Precisión del modelo:')\n",
    "print(pr.score(X_train_poli, y_train_p))"
   ]
  },
  {
   "cell_type": "code",
   "execution_count": null,
   "metadata": {},
   "outputs": [],
   "source": [
    "\n",
    "########## IMPLEMENTACIÓN DE REGRESIÓN POLINOMIAL ##########\n",
    "#Separo los datos de \"train\" en entrenamiento y prueba para probar los algoritmos\n",
    "X_train_p, X_test_p, y_train_p, y_test_p = train_test_split(dataset_train.drop(columns=\"price\"),dataset_train.price, test_size=0.2)\n",
    "#Se define el grado del polinomio\n",
    "poli_reg = PolynomialFeatures(degree = 2)\n",
    "#Se transforma las características existentes en características de mayor grado\n",
    "X_train_poli = poli_reg.fit_transform(X_train_p)\n",
    "X_test_poli = poli_reg.fit_transform(X_test_p)\n",
    "#Defino el algoritmo a utilizar\n",
    "pr = ExtraTreesRegressor(bootstrap= True, max_depth= 20, max_features= 'auto', n_estimators= 300)\n",
    "#Entreno el modelo\n",
    "pr.fit(X_train_poli, y_train_p)\n",
    "#Realizo una predicción\n",
    "Y_pred_pr = pr.predict(X_test_poli)\n",
    "print('Precisión del modelo:')\n",
    "print(pr.score(X_train_poli, y_train_p))"
   ]
  },
  {
   "cell_type": "markdown",
   "metadata": {},
   "source": [
    "Creamos la muestra de entrenamiento y de test, tanto para predictores como para la variable objetivo"
   ]
  },
  {
   "cell_type": "code",
   "execution_count": 6,
   "metadata": {},
   "outputs": [],
   "source": [
    "X_train_p =dataset_train.drop(columns=[\"price\"])\n",
    "y_train_p = dataset_train[\"price\"]\n",
    "X_test_p=dataset_predict"
   ]
  },
  {
   "cell_type": "markdown",
   "metadata": {},
   "source": [
    "Para escalaºr nuestros datos y hacer nuestras variable spolinomiales, las dividimos y las entrenamos con PolynomialFeatures donde hay que ajustarle un grado."
   ]
  },
  {
   "cell_type": "code",
   "execution_count": 7,
   "metadata": {},
   "outputs": [],
   "source": [
    "#Separo los datos de \"train\" en entrenamiento y prueba para probar los algoritmos\n",
    "#X_train_p, X_test_p, y_train_p, y_test_p = train_test_split(X_p, y_p)\n",
    "#Se define el grado del polinomio\n",
    "poli_reg = PolynomialFeatures(degree = 4)\n",
    "#Se transforma las características existentes en características de mayor grado polinomicas\n",
    "X_train_poli = poli_reg.fit_transform(X_train_p)\n",
    "X_test_poli = poli_reg.fit_transform(X_test_p)\n",
    "#y_p_poli = poli_reg.fit_transform(y_p)"
   ]
  },
  {
   "cell_type": "markdown",
   "metadata": {},
   "source": [
    "Una vez pasado a polinomico(a un mayor grado), se elige el modelo a entrenar, y lo entrenamos ( en este caso ExtraTreesRegressor )"
   ]
  },
  {
   "cell_type": "code",
   "execution_count": 8,
   "metadata": {},
   "outputs": [
    {
     "data": {
      "text/plain": [
       "ExtraTreesRegressor(bootstrap=True, max_depth=20, n_estimators=300)"
      ]
     },
     "execution_count": 8,
     "metadata": {},
     "output_type": "execute_result"
    }
   ],
   "source": [
    "#Defino el algoritmo a utilizar\n",
    "pr = ExtraTreesRegressor(bootstrap= True, max_depth= 20, max_features= 'auto', n_estimators= 300)\n",
    "#Entreno el modelo\n",
    "pr.fit(X_train_poli, y_train_p)"
   ]
  },
  {
   "cell_type": "markdown",
   "metadata": {},
   "source": [
    "Predecimos con el dataset de predict"
   ]
  },
  {
   "cell_type": "code",
   "execution_count": 9,
   "metadata": {},
   "outputs": [
    {
     "name": "stdout",
     "output_type": "stream",
     "text": [
      "-------'ExtraTreesRegressor polinomial grade 4'-------\n",
      "r2: 0.997098758049193\n",
      "RMSE: 0.0 4\n"
     ]
    }
   ],
   "source": [
    "#Realizo una predicción\n",
    "Y_predicting_ExtraTrees_deg_4 = pr.predict(X_test_poli)\n",
    "\n",
    "print(f\"-------'ExtraTreesRegressor polinomial grade 4'-------\")\n",
    "print('r2:',pr.score(X_train_poli, y_train_p))\n",
    "print('RMSE:', round(np.sqrt(metrics.mean_squared_error(y_train_p, y_train_p))),4)"
   ]
  },
  {
   "cell_type": "markdown",
   "metadata": {},
   "source": [
    "Pasamos a  dataframe y guardamos en csv"
   ]
  },
  {
   "cell_type": "code",
   "execution_count": 10,
   "metadata": {},
   "outputs": [
    {
     "data": {
      "text/html": [
       "<div>\n",
       "<style scoped>\n",
       "    .dataframe tbody tr th:only-of-type {\n",
       "        vertical-align: middle;\n",
       "    }\n",
       "\n",
       "    .dataframe tbody tr th {\n",
       "        vertical-align: top;\n",
       "    }\n",
       "\n",
       "    .dataframe thead th {\n",
       "        text-align: right;\n",
       "    }\n",
       "</style>\n",
       "<table border=\"1\" class=\"dataframe\">\n",
       "  <thead>\n",
       "    <tr style=\"text-align: right;\">\n",
       "      <th></th>\n",
       "      <th>id</th>\n",
       "      <th>price</th>\n",
       "    </tr>\n",
       "  </thead>\n",
       "  <tbody>\n",
       "    <tr>\n",
       "      <th>0</th>\n",
       "      <td>0</td>\n",
       "      <td>714.020910</td>\n",
       "    </tr>\n",
       "    <tr>\n",
       "      <th>1</th>\n",
       "      <td>1</td>\n",
       "      <td>6055.403207</td>\n",
       "    </tr>\n",
       "    <tr>\n",
       "      <th>2</th>\n",
       "      <td>2</td>\n",
       "      <td>5807.728993</td>\n",
       "    </tr>\n",
       "    <tr>\n",
       "      <th>3</th>\n",
       "      <td>3</td>\n",
       "      <td>1108.284661</td>\n",
       "    </tr>\n",
       "    <tr>\n",
       "      <th>4</th>\n",
       "      <td>4</td>\n",
       "      <td>3259.507263</td>\n",
       "    </tr>\n",
       "  </tbody>\n",
       "</table>\n",
       "</div>"
      ],
      "text/plain": [
       "   id        price\n",
       "0   0   714.020910\n",
       "1   1  6055.403207\n",
       "2   2  5807.728993\n",
       "3   3  1108.284661\n",
       "4   4  3259.507263"
      ]
     },
     "execution_count": 10,
     "metadata": {},
     "output_type": "execute_result"
    }
   ],
   "source": [
    "predicted_ExtraTrees_deg_4 = pd.DataFrame(Y_predicting_ExtraTrees_deg_4).reset_index()\n",
    "predicted_ExtraTrees_deg_4 = predicted_ExtraTrees_deg_4.rename(columns={\"index\": \"id\", 0: \"price\"})\n",
    "predicted_ExtraTrees_deg_4.head()"
   ]
  },
  {
   "cell_type": "code",
   "execution_count": null,
   "metadata": {},
   "outputs": [],
   "source": [
    "predicted_ExtraTrees_deg_3.to_csv('../1.Limpieza_dataraw_inicial/Data_output/predicted_ExtraTrees_deg_4.csv', header= True, index=False)"
   ]
  },
  {
   "cell_type": "markdown",
   "metadata": {},
   "source": [
    "Vamos a hacer tambien lo mismo con random forest, tambien asignaremos un grado 4"
   ]
  },
  {
   "cell_type": "code",
   "execution_count": null,
   "metadata": {},
   "outputs": [],
   "source": [
    "X_p =dataset_train.drop(columns=[\"price\"])\n",
    "y_p = dataset_train[\"price\"]\n",
    "X_test_p=dataset_predict"
   ]
  },
  {
   "cell_type": "code",
   "execution_count": null,
   "metadata": {},
   "outputs": [],
   "source": [
    "#Separo los datos de \"train\" en entrenamiento y prueba para probar los algoritmos\n",
    "X_train_p, X_test_p, y_train_p, y_test_p = train_test_split(X_p, y_p, test_size=0.2)"
   ]
  },
  {
   "cell_type": "code",
   "execution_count": null,
   "metadata": {},
   "outputs": [],
   "source": [
    "#Se define el grado del polinomio\n",
    "poli_reg = PolynomialFeatures(degree = 4)\n",
    "#Se transforma las características existentes en características de mayor grado polinomicas\n",
    "X_train_poli = poli_reg.fit_transform(X_train_p)\n",
    "X_test_poli = poli_reg.fit_transform(X_test_p)"
   ]
  },
  {
   "cell_type": "code",
   "execution_count": null,
   "metadata": {},
   "outputs": [],
   "source": [
    "#Defino el algoritmo a utilizar\n",
    "pr = RandomForestRegressor(bootstrap=True, max_depth=60, max_features= 'auto', n_estimators= 200)\n",
    "#Entreno el modelo\n",
    "pr.fit(X_train_poli, y_train_p)"
   ]
  },
  {
   "cell_type": "code",
   "execution_count": null,
   "metadata": {},
   "outputs": [],
   "source": [
    "print(f\"-------'RandomForest polinomial grade 4'-------\")\n",
    "print('r2:',pr.score(X_train_poli, y_train_p))\n",
    "print('RMSE:', round(np.sqrt(metrics.mean_squared_error(y_train_p, y_train_p))),4)"
   ]
  },
  {
   "cell_type": "code",
   "execution_count": null,
   "metadata": {},
   "outputs": [],
   "source": [
    "#predecimos\n",
    "Y_predicting_RandomForest_deg_4 = pr.predict(X_test_poli)"
   ]
  },
  {
   "cell_type": "code",
   "execution_count": null,
   "metadata": {},
   "outputs": [],
   "source": [
    "#pasamos a df y guardamos en csv\n",
    "predicted_RandomForest_deg_4 = pd.DataFrame(Y_predicting_ExtraTrees_deg_4).reset_index()\n",
    "predicted_RandomForest_deg_4 = predicted_RandomForest_deg_4.rename(columns={\"index\": \"id\", 0: \"price\"})\n",
    "predicted_RandomForest_deg_4.head()\n",
    "predicted_RandomForest_deg_4.to_csv('../1.Limpieza_dataraw_inicial/Data_output/predicted_RandomForest_deg_4.csv', header= True, index=False)"
   ]
  }
 ],
 "metadata": {
  "kernelspec": {
   "display_name": "Python 3",
   "language": "python",
   "name": "python3"
  },
  "language_info": {
   "codemirror_mode": {
    "name": "ipython",
    "version": 3
   },
   "file_extension": ".py",
   "mimetype": "text/x-python",
   "name": "python",
   "nbconvert_exporter": "python",
   "pygments_lexer": "ipython3",
   "version": "3.6.9"
  }
 },
 "nbformat": 4,
 "nbformat_minor": 4
}
